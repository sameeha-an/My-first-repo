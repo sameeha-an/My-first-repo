{
 "cells": [
  {
   "cell_type": "markdown",
   "id": "d185db1e",
   "metadata": {},
   "source": [
    "# import neccessary libraries"
   ]
  },
  {
   "cell_type": "code",
   "execution_count": 1,
   "id": "2a0c8bf2",
   "metadata": {},
   "outputs": [
    {
     "name": "stdout",
     "output_type": "stream",
     "text": [
      "pygame 2.5.2 (SDL 2.28.3, Python 3.11.5)\n",
      "Hello from the pygame community. https://www.pygame.org/contribute.html\n"
     ]
    }
   ],
   "source": [
    "from pygame import mixer"
   ]
  },
  {
   "cell_type": "code",
   "execution_count": 2,
   "id": "1e8c6371",
   "metadata": {},
   "outputs": [],
   "source": [
    "from tkinter import *"
   ]
  },
  {
   "cell_type": "code",
   "execution_count": 3,
   "id": "4d2d2c7b",
   "metadata": {},
   "outputs": [],
   "source": [
    "from tkinter import filedialog"
   ]
  },
  {
   "cell_type": "code",
   "execution_count": 4,
   "id": "f8e5944b",
   "metadata": {},
   "outputs": [],
   "source": [
    "import os"
   ]
  },
  {
   "cell_type": "code",
   "execution_count": 5,
   "id": "28f79123",
   "metadata": {},
   "outputs": [],
   "source": [
    "import pathlib"
   ]
  },
  {
   "cell_type": "code",
   "execution_count": 6,
   "id": "29dfda54",
   "metadata": {},
   "outputs": [],
   "source": [
    "import os"
   ]
  },
  {
   "cell_type": "code",
   "execution_count": 7,
   "id": "27f3b669",
   "metadata": {},
   "outputs": [],
   "source": [
    "import pygame"
   ]
  },
  {
   "cell_type": "code",
   "execution_count": 8,
   "id": "8fd5c59c",
   "metadata": {},
   "outputs": [],
   "source": [
    "from playsound import playsound"
   ]
  },
  {
   "cell_type": "code",
   "execution_count": 9,
   "id": "deb95710",
   "metadata": {},
   "outputs": [],
   "source": [
    "import pygame.mixer as mixer"
   ]
  },
  {
   "cell_type": "code",
   "execution_count": 10,
   "id": "0bd0a373",
   "metadata": {},
   "outputs": [],
   "source": [
    "import tkinter.font as font"
   ]
  },
  {
   "cell_type": "markdown",
   "id": "93cbc017",
   "metadata": {},
   "source": [
    "# Initialize the mixer module"
   ]
  },
  {
   "cell_type": "code",
   "execution_count": 11,
   "id": "e9f70d14",
   "metadata": {},
   "outputs": [],
   "source": [
    "mixer.init()"
   ]
  },
  {
   "cell_type": "markdown",
   "id": "6c3cb348",
   "metadata": {},
   "source": [
    "# Create the root window"
   ]
  },
  {
   "cell_type": "code",
   "execution_count": 12,
   "id": "3e607a62",
   "metadata": {
    "scrolled": true
   },
   "outputs": [
    {
     "data": {
      "text/plain": [
       "''"
      ]
     },
     "execution_count": 12,
     "metadata": {},
     "output_type": "execute_result"
    }
   ],
   "source": [
    "root = Tk()\n",
    "root.title('Music Player')"
   ]
  },
  {
   "cell_type": "markdown",
   "id": "7b345c6f",
   "metadata": {},
   "source": [
    "# Create a listbox to contain songs"
   ]
  },
  {
   "cell_type": "code",
   "execution_count": 13,
   "id": "a6838e6c",
   "metadata": {},
   "outputs": [],
   "source": [
    "songs_list = Listbox(root, selectmode=SINGLE, bg=\"black\", fg=\"white\", font=('arial', 15), height=12, width=47, selectbackground=\"gray\", selectforeground=\"black\")\n",
    "songs_list.grid(columnspan=9)"
   ]
  },
  {
   "cell_type": "markdown",
   "id": "d2bab101",
   "metadata": {},
   "source": [
    "# Function to add songs to the playlist"
   ]
  },
  {
   "cell_type": "code",
   "execution_count": 14,
   "id": "0abde527",
   "metadata": {},
   "outputs": [],
   "source": [
    "def addsongs():\n",
    "    temp_song = filedialog.askopenfilenames(initialdir=\"C:/Users/samee/Downloads/mp3 project(python)/save songs\",title=\"Choose a song\", filetypes=((\"mp3 Files\", \"*.mp3\"),))\n",
    "    for s in temp_song:\n",
    "        s = s.replace(\"C:/Users/samee/Downloads/mp3 project(python)/save songs/\", \"\")\n",
    "        songs_list.insert(END, s)"
   ]
  },
  {
   "cell_type": "markdown",
   "id": "ef5b5eb8",
   "metadata": {},
   "source": [
    "# Function to delete the selected song from the playlist"
   ]
  },
  {
   "cell_type": "code",
   "execution_count": 15,
   "id": "860fdd5a",
   "metadata": {},
   "outputs": [],
   "source": [
    "def deletesong():\n",
    "    curr_song = songs_list.curselection()\n",
    "    songs_list.delete(curr_song[0])"
   ]
  },
  {
   "cell_type": "markdown",
   "id": "69143acf",
   "metadata": {},
   "source": [
    "# Function to play the selected song"
   ]
  },
  {
   "cell_type": "code",
   "execution_count": 16,
   "id": "a2f2fa0f",
   "metadata": {},
   "outputs": [],
   "source": [
    "def Play():\n",
    "    song = songs_list.get(ACTIVE)\n",
    "    song = f'C:/Users/samee/Downloads/mp3 project(python)/save songs/{song}'\n",
    "    mixer.music.load(song)\n",
    "    mixer.music.play()"
   ]
  },
  {
   "cell_type": "markdown",
   "id": "60243095",
   "metadata": {},
   "source": [
    "# Function to pause the currently playing song"
   ]
  },
  {
   "cell_type": "code",
   "execution_count": 17,
   "id": "37822f2d",
   "metadata": {},
   "outputs": [],
   "source": [
    "def Pause():\n",
    "    mixer.music.pause()"
   ]
  },
  {
   "cell_type": "markdown",
   "id": "208bebce",
   "metadata": {},
   "source": [
    "# Function to stop the currently playing song"
   ]
  },
  {
   "cell_type": "code",
   "execution_count": 18,
   "id": "fc243c98",
   "metadata": {},
   "outputs": [],
   "source": [
    "def Stop():\n",
    "    mixer.music.stop()\n",
    "    songs_list.selection_clear(ACTIVE)"
   ]
  },
  {
   "cell_type": "markdown",
   "id": "3f9ad87a",
   "metadata": {},
   "source": [
    "# Function to resume the paused song"
   ]
  },
  {
   "cell_type": "code",
   "execution_count": 19,
   "id": "9faf0727",
   "metadata": {},
   "outputs": [],
   "source": [
    "def Resume():\n",
    "    mixer.music.unpause()"
   ]
  },
  {
   "cell_type": "markdown",
   "id": "15836131",
   "metadata": {},
   "source": [
    "# Function to play the previous song"
   ]
  },
  {
   "cell_type": "code",
   "execution_count": 20,
   "id": "b53f72ad",
   "metadata": {},
   "outputs": [],
   "source": [
    "def Previous():\n",
    "    previous_one = songs_list.curselection()\n",
    "    previous_one = previous_one[0] - 1\n",
    "    temp2 = songs_list.get(previous_one)\n",
    "    temp2 = f'C:/Users/samee/Downloads/mp3 project(python)/save songs/{temp2}'\n",
    "    mixer.music.load(temp2)\n",
    "    mixer.music.play()\n",
    "    songs_list.selection_clear(0, END)\n",
    "    songs_list.activate(previous_one)\n",
    "    songs_list.selection_set(previous_one)"
   ]
  },
  {
   "cell_type": "markdown",
   "id": "cd11b526",
   "metadata": {},
   "source": [
    "# Function to play the next song"
   ]
  },
  {
   "cell_type": "code",
   "execution_count": 21,
   "id": "94690545",
   "metadata": {},
   "outputs": [],
   "source": [
    "def Next():\n",
    "    next_one = songs_list.curselection()\n",
    "    next_one = next_one[0] + 1\n",
    "    temp = songs_list.get(next_one)\n",
    "    temp = f'C:/Users/samee/Downloads/mp3 project(python)/save songs/{temp}'\n",
    "    mixer.music.load(temp)\n",
    "    mixer.music.play()\n",
    "    songs_list.selection_clear(0, END)\n",
    "    songs_list.activate(next_one)\n",
    "    songs_list.selection_set(next_one)"
   ]
  },
  {
   "cell_type": "markdown",
   "id": "24b2732a",
   "metadata": {},
   "source": [
    "# Create buttons for various actions"
   ]
  },
  {
   "cell_type": "code",
   "execution_count": 22,
   "id": "1f295f63",
   "metadata": {},
   "outputs": [],
   "source": [
    "add_button = Button(root, text=\"Add Songs\", width=10, command=addsongs)\n",
    "delete_button = Button(root, text=\"Delete Song\", width=10, command=deletesong)\n",
    "play_button = Button(root, text=\"Play\", width=10, command=Play)\n",
    "pause_button = Button(root, text=\"Pause\", width=10, command=Pause)\n",
    "stop_button = Button(root, text=\"Stop\", width=10, command=Stop)\n",
    "resume_button = Button(root, text=\"Resume\", width=10, command=Resume)\n",
    "prev_button = Button(root, text=\"Previous\", width=10, command=Previous)\n",
    "next_button = Button(root, text=\"Next\", width=10, command=Next)"
   ]
  },
  {
   "cell_type": "markdown",
   "id": "93607e7a",
   "metadata": {},
   "source": [
    "# Arrange buttons on the grid"
   ]
  },
  {
   "cell_type": "code",
   "execution_count": 23,
   "id": "2e7e182e",
   "metadata": {},
   "outputs": [],
   "source": [
    "add_button.grid(row=2, column=0)\n",
    "delete_button.grid(row=2, column=1)\n",
    "play_button.grid(row=2, column=2)\n",
    "pause_button.grid(row=2, column=3)\n",
    "stop_button.grid(row=2, column=4)\n",
    "resume_button.grid(row=2, column=5)\n",
    "prev_button.grid(row=2, column=6)\n",
    "next_button.grid(row=2, column=7)"
   ]
  },
  {
   "cell_type": "markdown",
   "id": "5a001c6a",
   "metadata": {},
   "source": [
    "# Create a menu"
   ]
  },
  {
   "cell_type": "code",
   "execution_count": 24,
   "id": "a95387bb",
   "metadata": {},
   "outputs": [],
   "source": [
    "my_menu = Menu(root)\n",
    "root.config(menu=my_menu)\n",
    "add_song_menu = Menu(my_menu)\n",
    "my_menu.add_cascade(label=\"Menu\", menu=add_song_menu)\n",
    "add_song_menu.add_command(label=\"Add songs\", command=addsongs)\n",
    "add_song_menu.add_command(label=\"Delete song\", command=deletesong)"
   ]
  },
  {
   "cell_type": "markdown",
   "id": "f113b71b",
   "metadata": {},
   "source": [
    "# Run the main event loop"
   ]
  },
  {
   "cell_type": "code",
   "execution_count": null,
   "id": "14653b41",
   "metadata": {
    "scrolled": false
   },
   "outputs": [
    {
     "name": "stderr",
     "output_type": "stream",
     "text": [
      "Exception in Tkinter callback\n",
      "Traceback (most recent call last):\n",
      "  File \"C:\\Users\\samee\\desktop\\Lib\\tkinter\\__init__.py\", line 1948, in __call__\n",
      "    return self.func(*args)\n",
      "           ^^^^^^^^^^^^^^^^\n",
      "  File \"C:\\Users\\samee\\AppData\\Local\\Temp\\ipykernel_2396\\2583330078.py\", line 3, in Next\n",
      "    next_one = next_one[0] + 1\n",
      "               ~~~~~~~~^^^\n",
      "IndexError: tuple index out of range\n",
      "Exception in Tkinter callback\n",
      "Traceback (most recent call last):\n",
      "  File \"C:\\Users\\samee\\desktop\\Lib\\tkinter\\__init__.py\", line 1948, in __call__\n",
      "    return self.func(*args)\n",
      "           ^^^^^^^^^^^^^^^^\n",
      "  File \"C:\\Users\\samee\\AppData\\Local\\Temp\\ipykernel_2396\\2583330078.py\", line 3, in Next\n",
      "    next_one = next_one[0] + 1\n",
      "               ~~~~~~~~^^^\n",
      "IndexError: tuple index out of range\n"
     ]
    }
   ],
   "source": [
    "root.mainloop()"
   ]
  },
  {
   "cell_type": "code",
   "execution_count": null,
   "id": "2fe36170",
   "metadata": {},
   "outputs": [],
   "source": []
  },
  {
   "cell_type": "code",
   "execution_count": null,
   "id": "3782d09d",
   "metadata": {},
   "outputs": [],
   "source": []
  }
 ],
 "metadata": {
  "kernelspec": {
   "display_name": "Python 3 (ipykernel)",
   "language": "python",
   "name": "python3"
  },
  "language_info": {
   "codemirror_mode": {
    "name": "ipython",
    "version": 3
   },
   "file_extension": ".py",
   "mimetype": "text/x-python",
   "name": "python",
   "nbconvert_exporter": "python",
   "pygments_lexer": "ipython3",
   "version": "3.11.5"
  }
 },
 "nbformat": 4,
 "nbformat_minor": 5
}
